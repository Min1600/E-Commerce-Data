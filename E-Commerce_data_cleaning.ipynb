{
 "cells": [
  {
   "cell_type": "code",
   "execution_count": 1,
   "id": "b66cf601-df6b-4f50-ab8d-be66a737dfbc",
   "metadata": {},
   "outputs": [],
   "source": [
    "import pandas as pd\n",
    "import numpy as np\n",
    "import seaborn as sns\n",
    "import matplotlib.pyplot as plt\n",
    "import calendar"
   ]
  },
  {
   "cell_type": "code",
   "execution_count": 2,
   "id": "37d52f79-4c92-4d61-97eb-4c5973421fcb",
   "metadata": {},
   "outputs": [
    {
     "data": {
      "text/html": [
       "<div>\n",
       "<style scoped>\n",
       "    .dataframe tbody tr th:only-of-type {\n",
       "        vertical-align: middle;\n",
       "    }\n",
       "\n",
       "    .dataframe tbody tr th {\n",
       "        vertical-align: top;\n",
       "    }\n",
       "\n",
       "    .dataframe thead th {\n",
       "        text-align: right;\n",
       "    }\n",
       "</style>\n",
       "<table border=\"1\" class=\"dataframe\">\n",
       "  <thead>\n",
       "    <tr style=\"text-align: right;\">\n",
       "      <th></th>\n",
       "      <th>order_id</th>\n",
       "      <th>customer_id</th>\n",
       "      <th>order_status</th>\n",
       "      <th>order_purchase_time</th>\n",
       "      <th>order_approved</th>\n",
       "      <th>order_delivered_carrier_date</th>\n",
       "      <th>order_delivered_customer_date</th>\n",
       "      <th>order_estimated_delivery_date</th>\n",
       "      <th>price</th>\n",
       "      <th>product_category_name</th>\n",
       "      <th>order_item_id</th>\n",
       "      <th>freight_value</th>\n",
       "      <th>reviews_score</th>\n",
       "    </tr>\n",
       "  </thead>\n",
       "  <tbody>\n",
       "    <tr>\n",
       "      <th>0</th>\n",
       "      <td>00010242fe8c5a6d1ba2dd792cb16214</td>\n",
       "      <td>3ce436f183e68e07877b285a838db11a</td>\n",
       "      <td>delivered</td>\n",
       "      <td>13/09/2017 08:59</td>\n",
       "      <td>13/09/2017 09:45</td>\n",
       "      <td>19/09/2017 18:34</td>\n",
       "      <td>20/09/2017 23:43</td>\n",
       "      <td>29/09/2017 00:00</td>\n",
       "      <td>58.90</td>\n",
       "      <td>cool_stuff</td>\n",
       "      <td>1.0</td>\n",
       "      <td>13.29</td>\n",
       "      <td>5.0</td>\n",
       "    </tr>\n",
       "    <tr>\n",
       "      <th>1</th>\n",
       "      <td>00018f77f2f0320c557190d7a144bdd3</td>\n",
       "      <td>f6dd3ec061db4e3987629fe6b26e5cce</td>\n",
       "      <td>delivered</td>\n",
       "      <td>26/04/2017 10:53</td>\n",
       "      <td>26/04/2017 11:05</td>\n",
       "      <td>04/05/2017 14:35</td>\n",
       "      <td>12/05/2017 16:04</td>\n",
       "      <td>15/05/2017 00:00</td>\n",
       "      <td>239.90</td>\n",
       "      <td>pet_shop</td>\n",
       "      <td>1.0</td>\n",
       "      <td>19.93</td>\n",
       "      <td>4.0</td>\n",
       "    </tr>\n",
       "    <tr>\n",
       "      <th>2</th>\n",
       "      <td>000229ec398224ef6ca0657da4fc703e</td>\n",
       "      <td>6489ae5e4333f3693df5ad4372dab6d3</td>\n",
       "      <td>delivered</td>\n",
       "      <td>14/01/2018 14:33</td>\n",
       "      <td>14/01/2018 14:48</td>\n",
       "      <td>16/01/2018 12:36</td>\n",
       "      <td>22/01/2018 13:19</td>\n",
       "      <td>05/02/2018 00:00</td>\n",
       "      <td>199.00</td>\n",
       "      <td>moveis_decoracao</td>\n",
       "      <td>1.0</td>\n",
       "      <td>17.87</td>\n",
       "      <td>5.0</td>\n",
       "    </tr>\n",
       "    <tr>\n",
       "      <th>3</th>\n",
       "      <td>00024acbcdf0a6daa1e931b038114c75</td>\n",
       "      <td>d4eb9395c8c0431ee92fce09860c5a06</td>\n",
       "      <td>delivered</td>\n",
       "      <td>08/08/2018 10:00</td>\n",
       "      <td>08/08/2018 10:10</td>\n",
       "      <td>10/08/2018 13:28</td>\n",
       "      <td>14/08/2018 13:32</td>\n",
       "      <td>20/08/2018 00:00</td>\n",
       "      <td>12.99</td>\n",
       "      <td>perfumaria</td>\n",
       "      <td>1.0</td>\n",
       "      <td>12.79</td>\n",
       "      <td>4.0</td>\n",
       "    </tr>\n",
       "    <tr>\n",
       "      <th>4</th>\n",
       "      <td>00048cc3ae777c65dbb7d2a0634bc1ea</td>\n",
       "      <td>816cbea969fe5b689b39cfc97a506742</td>\n",
       "      <td>delivered</td>\n",
       "      <td>15/05/2017 21:42</td>\n",
       "      <td>17/05/2017 03:55</td>\n",
       "      <td>17/05/2017 11:05</td>\n",
       "      <td>22/05/2017 13:44</td>\n",
       "      <td>06/06/2017 00:00</td>\n",
       "      <td>21.90</td>\n",
       "      <td>utilidades_domesticas</td>\n",
       "      <td>1.0</td>\n",
       "      <td>12.69</td>\n",
       "      <td>4.0</td>\n",
       "    </tr>\n",
       "  </tbody>\n",
       "</table>\n",
       "</div>"
      ],
      "text/plain": [
       "                           order_id                       customer_id  \\\n",
       "0  00010242fe8c5a6d1ba2dd792cb16214  3ce436f183e68e07877b285a838db11a   \n",
       "1  00018f77f2f0320c557190d7a144bdd3  f6dd3ec061db4e3987629fe6b26e5cce   \n",
       "2  000229ec398224ef6ca0657da4fc703e  6489ae5e4333f3693df5ad4372dab6d3   \n",
       "3  00024acbcdf0a6daa1e931b038114c75  d4eb9395c8c0431ee92fce09860c5a06   \n",
       "4  00048cc3ae777c65dbb7d2a0634bc1ea  816cbea969fe5b689b39cfc97a506742   \n",
       "\n",
       "  order_status order_purchase_time    order_approved  \\\n",
       "0    delivered    13/09/2017 08:59  13/09/2017 09:45   \n",
       "1    delivered    26/04/2017 10:53  26/04/2017 11:05   \n",
       "2    delivered    14/01/2018 14:33  14/01/2018 14:48   \n",
       "3    delivered    08/08/2018 10:00  08/08/2018 10:10   \n",
       "4    delivered    15/05/2017 21:42  17/05/2017 03:55   \n",
       "\n",
       "  order_delivered_carrier_date order_delivered_customer_date  \\\n",
       "0             19/09/2017 18:34              20/09/2017 23:43   \n",
       "1             04/05/2017 14:35              12/05/2017 16:04   \n",
       "2             16/01/2018 12:36              22/01/2018 13:19   \n",
       "3             10/08/2018 13:28              14/08/2018 13:32   \n",
       "4             17/05/2017 11:05              22/05/2017 13:44   \n",
       "\n",
       "  order_estimated_delivery_date   price  product_category_name  order_item_id  \\\n",
       "0              29/09/2017 00:00   58.90             cool_stuff            1.0   \n",
       "1              15/05/2017 00:00  239.90               pet_shop            1.0   \n",
       "2              05/02/2018 00:00  199.00       moveis_decoracao            1.0   \n",
       "3              20/08/2018 00:00   12.99             perfumaria            1.0   \n",
       "4              06/06/2017 00:00   21.90  utilidades_domesticas            1.0   \n",
       "\n",
       "   freight_value  reviews_score  \n",
       "0          13.29            5.0  \n",
       "1          19.93            4.0  \n",
       "2          17.87            5.0  \n",
       "3          12.79            4.0  \n",
       "4          12.69            4.0  "
      ]
     },
     "execution_count": 2,
     "metadata": {},
     "output_type": "execute_result"
    }
   ],
   "source": [
    "df = pd.read_csv('analysis_table.csv')\n",
    "df.head()"
   ]
  },
  {
   "cell_type": "code",
   "execution_count": 3,
   "id": "596e6405-6102-4ab7-9239-539a1c0e7a1d",
   "metadata": {},
   "outputs": [
    {
     "name": "stdout",
     "output_type": "stream",
     "text": [
      "<class 'pandas.core.frame.DataFrame'>\n",
      "RangeIndex: 114092 entries, 0 to 114091\n",
      "Data columns (total 13 columns):\n",
      " #   Column                         Non-Null Count   Dtype  \n",
      "---  ------                         --------------   -----  \n",
      " 0   order_id                       114092 non-null  object \n",
      " 1   customer_id                    114092 non-null  object \n",
      " 2   order_status                   114092 non-null  object \n",
      " 3   order_purchase_time            114092 non-null  object \n",
      " 4   order_approved                 113930 non-null  object \n",
      " 5   order_delivered_carrier_date   112112 non-null  object \n",
      " 6   order_delivered_customer_date  110839 non-null  object \n",
      " 7   order_estimated_delivery_date  114092 non-null  object \n",
      " 8   price                          113314 non-null  float64\n",
      " 9   product_category_name          111702 non-null  object \n",
      " 10  order_item_id                  113314 non-null  float64\n",
      " 11  freight_value                  113314 non-null  float64\n",
      " 12  reviews_score                  113131 non-null  float64\n",
      "dtypes: float64(4), object(9)\n",
      "memory usage: 11.3+ MB\n"
     ]
    }
   ],
   "source": [
    "df.info()"
   ]
  },
  {
   "cell_type": "code",
   "execution_count": null,
   "id": "c6fe5a71-98df-4c0e-9e54-9963f445bcd8",
   "metadata": {},
   "outputs": [],
   "source": [
    "# changing data type into datetime\n",
    "date_cols = ['order_purchase_time','order_approved', 'order_delivered_carrier_date','order_delivered_customer_date','order_estimated_delivery_date']\n",
    "df[date_cols] = df[date_cols].apply(pd.to_datetime)"
   ]
  },
  {
   "cell_type": "code",
   "execution_count": 5,
   "id": "0be3f5d1-910e-48b9-8947-405b26bb6e77",
   "metadata": {},
   "outputs": [],
   "source": [
    "# Creating new column deliver time which calculates the time taken to deliver to customer from when the order was purchased\n",
    "df['deliver_time'] = df['order_delivered_customer_date'] - df['order_purchase_time']\n",
    "df['approval_time'] = df['order_approved'] - df['order_purchase_time']\n",
    "df['waiting_time'] = df['order_delivered_carrier_date'] - df['order_approved']\n",
    "df['shipping_time'] = df['order_delivered_customer_date'] - df['order_delivered_carrier_date']\n",
    "df['estimated_time'] = df['order_estimated_delivery_date'] - df['order_purchase_time']\n",
    "df['deliver_estimate_time_gap'] = df['deliver_time'] - df['estimated_time']"
   ]
  },
  {
   "cell_type": "code",
   "execution_count": 6,
   "id": "0e55e410-9031-4892-9ca7-0b9bf6104e24",
   "metadata": {},
   "outputs": [
    {
     "name": "stdout",
     "output_type": "stream",
     "text": [
      "<class 'pandas.core.frame.DataFrame'>\n",
      "RangeIndex: 114092 entries, 0 to 114091\n",
      "Data columns (total 19 columns):\n",
      " #   Column                         Non-Null Count   Dtype          \n",
      "---  ------                         --------------   -----          \n",
      " 0   order_id                       114092 non-null  object         \n",
      " 1   customer_id                    114092 non-null  object         \n",
      " 2   order_status                   114092 non-null  object         \n",
      " 3   order_purchase_time            114092 non-null  datetime64[ns] \n",
      " 4   order_approved                 113930 non-null  datetime64[ns] \n",
      " 5   order_delivered_carrier_date   112112 non-null  datetime64[ns] \n",
      " 6   order_delivered_customer_date  110839 non-null  datetime64[ns] \n",
      " 7   order_estimated_delivery_date  114092 non-null  datetime64[ns] \n",
      " 8   price                          113314 non-null  float64        \n",
      " 9   product_category_name          111702 non-null  object         \n",
      " 10  order_item_id                  113314 non-null  float64        \n",
      " 11  freight_value                  113314 non-null  float64        \n",
      " 12  reviews_score                  113131 non-null  float64        \n",
      " 13  deliver_time                   110839 non-null  timedelta64[ns]\n",
      " 14  approval_time                  113930 non-null  timedelta64[ns]\n",
      " 15  waiting_time                   112097 non-null  timedelta64[ns]\n",
      " 16  shipping_time                  110838 non-null  timedelta64[ns]\n",
      " 17  estimated_time                 114092 non-null  timedelta64[ns]\n",
      " 18  deliver_estimate_time_gap      110839 non-null  timedelta64[ns]\n",
      "dtypes: datetime64[ns](5), float64(4), object(4), timedelta64[ns](6)\n",
      "memory usage: 16.5+ MB\n"
     ]
    }
   ],
   "source": [
    "df.info()"
   ]
  },
  {
   "cell_type": "code",
   "execution_count": 7,
   "id": "abdab344-719e-4e54-a340-efd685100857",
   "metadata": {},
   "outputs": [
    {
     "data": {
      "text/plain": [
       "order_id                            0\n",
       "customer_id                         0\n",
       "order_status                        0\n",
       "order_purchase_time                 0\n",
       "order_approved                    162\n",
       "order_delivered_carrier_date     1980\n",
       "order_delivered_customer_date    3253\n",
       "order_estimated_delivery_date       0\n",
       "price                             778\n",
       "product_category_name            2390\n",
       "order_item_id                     778\n",
       "freight_value                     778\n",
       "reviews_score                     961\n",
       "deliver_time                     3253\n",
       "approval_time                     162\n",
       "waiting_time                     1995\n",
       "shipping_time                    3254\n",
       "estimated_time                      0\n",
       "deliver_estimate_time_gap        3253\n",
       "dtype: int64"
      ]
     },
     "execution_count": 7,
     "metadata": {},
     "output_type": "execute_result"
    }
   ],
   "source": [
    "df.isna().sum()"
   ]
  },
  {
   "cell_type": "code",
   "execution_count": null,
   "id": "a0a431a7-ba07-424a-b40b-ca273a777d29",
   "metadata": {},
   "outputs": [],
   "source": [
    "# replacing all empty product names with 'Unknown'\n",
    "df['product_category_name'].fillna('Unknown', inplace=True)"
   ]
  },
  {
   "cell_type": "code",
   "execution_count": 25,
   "id": "049611be-183a-47e0-92de-5889ebfd065c",
   "metadata": {},
   "outputs": [
    {
     "data": {
      "text/plain": [
       "order_id                            0\n",
       "customer_id                         0\n",
       "order_status                        0\n",
       "order_purchase_time                 0\n",
       "order_approved                      0\n",
       "order_delivered_carrier_date        1\n",
       "order_delivered_customer_date       0\n",
       "order_estimated_delivery_date       0\n",
       "price                               0\n",
       "product_category_name               0\n",
       "order_item_id                       0\n",
       "freight_value                       0\n",
       "reviews_score                     827\n",
       "deliver_time                        0\n",
       "approval_time                      15\n",
       "waiting_time                       16\n",
       "shipping_time                       1\n",
       "estimated_time                      0\n",
       "deliver_estimate_time_gap           0\n",
       "product_category_name_english    1545\n",
       "dtype: int64"
      ]
     },
     "execution_count": 25,
     "metadata": {},
     "output_type": "execute_result"
    }
   ],
   "source": [
    "df.isna().sum()"
   ]
  },
  {
   "cell_type": "code",
   "execution_count": 26,
   "id": "546e0a25-e582-469e-900e-475694941f7e",
   "metadata": {},
   "outputs": [
    {
     "data": {
      "text/plain": [
       "order_id                            0\n",
       "customer_id                         0\n",
       "order_status                        0\n",
       "order_purchase_time                 0\n",
       "order_approved                      0\n",
       "order_delivered_carrier_date        1\n",
       "order_delivered_customer_date       0\n",
       "order_estimated_delivery_date       0\n",
       "price                               0\n",
       "product_category_name               0\n",
       "order_item_id                       0\n",
       "freight_value                       0\n",
       "reviews_score                     827\n",
       "deliver_time                        0\n",
       "approval_time                      15\n",
       "waiting_time                       16\n",
       "shipping_time                       1\n",
       "estimated_time                      0\n",
       "deliver_estimate_time_gap           0\n",
       "product_category_name_english    1545\n",
       "dtype: int64"
      ]
     },
     "execution_count": 26,
     "metadata": {},
     "output_type": "execute_result"
    }
   ],
   "source": [
    "# all price, freight_value and order_item_id share same rows with missing values\n",
    "# on top of that all these rows also have order_delivered_customer_date missing as the number decreased matches up\n",
    "test = df.dropna(subset='price')\n",
    "test.isna().sum()"
   ]
  },
  {
   "cell_type": "code",
   "execution_count": 27,
   "id": "345318ea-c930-42a3-8366-949b273bdcdd",
   "metadata": {},
   "outputs": [
    {
     "data": {
      "text/plain": [
       "count    0.0\n",
       "mean     NaN\n",
       "std      NaN\n",
       "min      NaN\n",
       "25%      NaN\n",
       "50%      NaN\n",
       "75%      NaN\n",
       "max      NaN\n",
       "Name: reviews_score, dtype: float64"
      ]
     },
     "execution_count": 27,
     "metadata": {},
     "output_type": "execute_result"
    }
   ],
   "source": [
    "# I will remove all rows that have missing values from price, freight_values and order_item_id\n",
    "# all these rows have been shown to also have missing order_delivered_customer_date, indicating these orders may not have been delivered\n",
    "# It will be stored under missing values and data will be interpreted seperately\n",
    "missing_values = df[df.price.isna()]\n",
    "missing_values.reviews_score.describe()"
   ]
  },
  {
   "cell_type": "code",
   "execution_count": 28,
   "id": "20fdc0e7-d0c1-494d-b7dc-6a66ed7e54c9",
   "metadata": {},
   "outputs": [],
   "source": [
    "# removing the missing_values as mentioned above\n",
    "df.dropna(subset='price', inplace=True)"
   ]
  },
  {
   "cell_type": "code",
   "execution_count": 29,
   "id": "f28d1b78-1217-4f96-8526-06c624e5097c",
   "metadata": {},
   "outputs": [
    {
     "data": {
      "text/plain": [
       "order_id                            0\n",
       "customer_id                         0\n",
       "order_status                        0\n",
       "order_purchase_time                 0\n",
       "order_approved                      0\n",
       "order_delivered_carrier_date        1\n",
       "order_delivered_customer_date       0\n",
       "order_estimated_delivery_date       0\n",
       "price                               0\n",
       "product_category_name               0\n",
       "order_item_id                       0\n",
       "freight_value                       0\n",
       "reviews_score                     827\n",
       "deliver_time                        0\n",
       "approval_time                      15\n",
       "waiting_time                       16\n",
       "shipping_time                       1\n",
       "estimated_time                      0\n",
       "deliver_estimate_time_gap           0\n",
       "product_category_name_english    1545\n",
       "dtype: int64"
      ]
     },
     "execution_count": 29,
     "metadata": {},
     "output_type": "execute_result"
    }
   ],
   "source": [
    "df.isna().sum()"
   ]
  },
  {
   "cell_type": "code",
   "execution_count": 30,
   "id": "a9d2d800-f4d6-4f9b-a5b0-032f19ce86fe",
   "metadata": {},
   "outputs": [
    {
     "data": {
      "text/plain": [
       "Series([], Name: count, dtype: int64)"
      ]
     },
     "execution_count": 30,
     "metadata": {},
     "output_type": "execute_result"
    }
   ],
   "source": [
    "# checking for any orders with no customer delivery date.\n",
    "df[df[\"order_delivered_customer_date\"].isnull()][\"order_status\"].value_counts()"
   ]
  },
  {
   "cell_type": "code",
   "execution_count": 31,
   "id": "6dc28243-3f24-4634-931f-9c423d0327c4",
   "metadata": {},
   "outputs": [
    {
     "data": {
      "text/plain": [
       "order_status\n",
       "delivered    110832\n",
       "canceled          7\n",
       "Name: count, dtype: int64"
      ]
     },
     "execution_count": 31,
     "metadata": {},
     "output_type": "execute_result"
    }
   ],
   "source": [
    "df.order_status.value_counts()"
   ]
  },
  {
   "cell_type": "code",
   "execution_count": 32,
   "id": "de1f3ff1-52b1-4c7c-a0f1-74a28dfd103b",
   "metadata": {},
   "outputs": [],
   "source": [
    "# the data shows that the most of the null values from order_delivered_customer_date are still in the process of delivering when the data was taken\n",
    "# I will remove them from the data\n",
    "df.dropna(subset='order_delivered_customer_date', inplace=True)"
   ]
  },
  {
   "cell_type": "code",
   "execution_count": 33,
   "id": "9d08fd81-09a1-46a1-8f25-610f1a4e3b40",
   "metadata": {},
   "outputs": [
    {
     "data": {
      "text/plain": [
       "order_id                            0\n",
       "customer_id                         0\n",
       "order_status                        0\n",
       "order_purchase_time                 0\n",
       "order_approved                      0\n",
       "order_delivered_carrier_date        1\n",
       "order_delivered_customer_date       0\n",
       "order_estimated_delivery_date       0\n",
       "price                               0\n",
       "product_category_name               0\n",
       "order_item_id                       0\n",
       "freight_value                       0\n",
       "reviews_score                     827\n",
       "deliver_time                        0\n",
       "approval_time                      15\n",
       "waiting_time                       16\n",
       "shipping_time                       1\n",
       "estimated_time                      0\n",
       "deliver_estimate_time_gap           0\n",
       "product_category_name_english    1545\n",
       "dtype: int64"
      ]
     },
     "execution_count": 33,
     "metadata": {},
     "output_type": "execute_result"
    }
   ],
   "source": [
    "df.isna().sum()"
   ]
  },
  {
   "cell_type": "code",
   "execution_count": 34,
   "id": "1c6d1ef7-0d64-4baa-adcc-407565589a7b",
   "metadata": {},
   "outputs": [],
   "source": [
    "# null values of order approved time are being filled with order purchase time of the same row\n",
    "df['order_approved'] = df['order_approved'].fillna(df['order_purchase_time'])"
   ]
  },
  {
   "cell_type": "code",
   "execution_count": 35,
   "id": "51a119b8-a2ce-4719-bffd-3c4154ae0dcd",
   "metadata": {},
   "outputs": [],
   "source": [
    "# translations of portugese product categories to english\n",
    "translation_map = {\n",
    "    \"agro_industria_e_comercio\": \"Agribusiness & Commerce\",\n",
    "    \"alimentos\": \"Food\",\n",
    "    \"alimentos_bebidas\": \"Food & Beverages\",\n",
    "    \"artes\": \"Arts\",\n",
    "    \"artes_e_artesanato\": \"Arts & Crafts\",\n",
    "    \"artigos_de_festas\": \"Party Supplies\",\n",
    "    \"artigos_de_natal\": \"Christmas Items\",\n",
    "    \"audio\": \"Audio\",\n",
    "    \"automotivo\": \"Automotive\",\n",
    "    \"bebes\": \"Baby\",\n",
    "    \"bebidas\": \"Beverages\",\n",
    "    \"beleza_saude\": \"Beauty & Health\",\n",
    "    \"brinquedos\": \"Toys\",\n",
    "    \"cama_mesa_banho\": \"Bed, Bath & Table\",\n",
    "    \"casa_conforto\": \"Home Comfort\",\n",
    "    \"casa_conforto_2\": \"Home Comfort (Other)\",\n",
    "    \"casa_construcao\": \"Home Construction\",\n",
    "    \"cds_dvds_musicais\": \"Music CDs & DVDs\",\n",
    "    \"cine_foto\": \"Cameras & Photography\",\n",
    "    \"climatizacao\": \"Climate Control (AC, Heaters)\",\n",
    "    \"consoles_games\": \"Consoles & Video Games\",\n",
    "    \"construcao_ferramentas_construcao\": \"Construction Tools\",\n",
    "    \"construcao_ferramentas_ferramentas\": \"Hand Tools\",\n",
    "    \"construcao_ferramentas_iluminacao\": \"Lighting (Construction)\",\n",
    "    \"construcao_ferramentas_jardim\": \"Garden Tools\",\n",
    "    \"construcao_ferramentas_seguranca\": \"Safety Equipment\",\n",
    "    \"cool_stuff\": \"Cool Gadgets\",\n",
    "    \"dvds_blu_ray\": \"DVDs & Blu-rays\",\n",
    "    \"eletrodomesticos\": \"Home Appliances\",\n",
    "    \"eletrodomesticos_2\": \"Home Appliances (Other)\",\n",
    "    \"eletronicos\": \"Electronics\",\n",
    "    \"eletroportateis\": \"Small Appliances\",\n",
    "    \"esporte_lazer\": \"Sports & Leisure\",\n",
    "    \"fashion_bolsas_e_acessorios\": \"Fashion: Bags & Accessories\",\n",
    "    \"fashion_calcados\": \"Fashion: Shoes\",\n",
    "    \"fashion_esporte\": \"Fashion: Sportswear\",\n",
    "    \"fashion_roupa_feminina\": \"Fashion: Women's Clothing\",\n",
    "    \"fashion_roupa_infanto_juvenil\": \"Fashion: Kids & Teens Clothing\",\n",
    "    \"fashion_roupa_masculina\": \"Fashion: Men's Clothing\",\n",
    "    \"fashion_underwear_e_moda_praia\": \"Fashion: Underwear & Swimwear\",\n",
    "    \"ferramentas_jardim\": \"Garden Tools\",\n",
    "    \"flores\": \"Flowers\",\n",
    "    \"fraldas_higiene\": \"Diapers & Hygiene\",\n",
    "    \"industria_comercio_e_negocios\": \"Industry, Commerce & Business\",\n",
    "    \"informatica_acessorios\": \"Computer & Accessories\",\n",
    "    \"instrumentos_musicais\": \"Musical Instruments\",\n",
    "    \"la_cuisine\": \"Kitchenware\",\n",
    "    \"livros_importados\": \"Imported Books\",\n",
    "    \"livros_interesse_geral\": \"General Interest Books\",\n",
    "    \"livros_tecnicos\": \"Technical Books\",\n",
    "    \"malas_acessorios\": \"Luggage & Accessories\",\n",
    "    \"market_place\": \"Marketplace\",\n",
    "    \"moveis_colchao_e_estofado\": \"Mattresses & Upholstery\",\n",
    "    \"moveis_cozinha_area_de_servico_jantar_e_jardim\": \"Kitchen, Dining & Garden Furniture\",\n",
    "    \"moveis_decoracao\": \"Home Décor & Furniture\",\n",
    "    \"moveis_escritorio\": \"Office Furniture\",\n",
    "    \"moveis_quarto\": \"Bedroom Furniture\",\n",
    "    \"moveis_sala\": \"Living Room Furniture\",\n",
    "    \"musica\": \"Music\",\n",
    "    \"papelaria\": \"Stationery\",\n",
    "    \"pc_gamer\": \"Gaming PCs\",\n",
    "    \"pcs\": \"Desktop PCs\",\n",
    "    \"perfumaria\": \"Perfumes\",\n",
    "    \"pet_shop\": \"Pet Shop\",\n",
    "    \"portateis_casa_forno_e_cafe\": \"Small Kitchen Appliances (Oven & Coffee)\",\n",
    "    \"portateis_cozinha_e_preparadores_de_alimentos\": \"Small Kitchen Appliances (Food Prep)\",\n",
    "    \"relogios_presentes\": \"Watches & Gifts\",\n",
    "    \"seguros_e_servicos\": \"Insurance & Services\",\n",
    "    \"sinalizacao_e_seguranca\": \"Signage & Safety\",\n",
    "    \"tablets_impressao_imagem\": \"Tablets, Printers & Imaging\",\n",
    "    \"telefonia\": \"Mobile Phones\",\n",
    "    \"telefonia_fixa\": \"Landline Phones\",\n",
    "    \"utilidades_domesticas\": \"Household Items\",\n",
    "    \"Unknown\":\"Unknown\"\n",
    "}\n",
    "\n",
    "# Apply translation\n",
    "df['product_category_name_english'] = df['product_category_name'].map(translation_map)"
   ]
  },
  {
   "cell_type": "code",
   "execution_count": 36,
   "id": "3e8126a1-5a44-4d2d-9ceb-efc30fcaf91b",
   "metadata": {},
   "outputs": [],
   "source": [
    "# exporting cleaned data to be used for analysis\n",
    "df.to_csv('analysis_table_edit.csv', index=False)"
   ]
  }
 ],
 "metadata": {
  "kernelspec": {
   "display_name": "Python 3 (ipykernel)",
   "language": "python",
   "name": "python3"
  },
  "language_info": {
   "codemirror_mode": {
    "name": "ipython",
    "version": 3
   },
   "file_extension": ".py",
   "mimetype": "text/x-python",
   "name": "python",
   "nbconvert_exporter": "python",
   "pygments_lexer": "ipython3",
   "version": "3.12.3"
  }
 },
 "nbformat": 4,
 "nbformat_minor": 5
}
